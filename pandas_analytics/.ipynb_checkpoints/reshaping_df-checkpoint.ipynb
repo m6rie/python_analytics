{
 "cells": [
  {
   "cell_type": "markdown",
   "id": "21d83ca6",
   "metadata": {},
   "source": [
    "# Reshape a DataFrame"
   ]
  },
  {
   "cell_type": "code",
   "execution_count": 1,
   "id": "7888c5d9",
   "metadata": {},
   "outputs": [],
   "source": [
    "import pandas as pd\n",
    "import seaborn as sns"
   ]
  },
  {
   "cell_type": "code",
   "execution_count": 4,
   "id": "3e564547",
   "metadata": {},
   "outputs": [
    {
     "data": {
      "text/html": [
       "<div>\n",
       "<style scoped>\n",
       "    .dataframe tbody tr th:only-of-type {\n",
       "        vertical-align: middle;\n",
       "    }\n",
       "\n",
       "    .dataframe tbody tr th {\n",
       "        vertical-align: top;\n",
       "    }\n",
       "\n",
       "    .dataframe thead th {\n",
       "        text-align: right;\n",
       "    }\n",
       "</style>\n",
       "<table border=\"1\" class=\"dataframe\">\n",
       "  <thead>\n",
       "    <tr style=\"text-align: right;\">\n",
       "      <th></th>\n",
       "      <th>district</th>\n",
       "      <th>M</th>\n",
       "      <th>R</th>\n",
       "      <th>S</th>\n",
       "    </tr>\n",
       "  </thead>\n",
       "  <tbody>\n",
       "    <tr>\n",
       "      <th>0</th>\n",
       "      <td>Fox Chapel</td>\n",
       "      <td>473</td>\n",
       "      <td>447</td>\n",
       "      <td>460</td>\n",
       "    </tr>\n",
       "    <tr>\n",
       "      <th>1</th>\n",
       "      <td>Tuscarora</td>\n",
       "      <td>536</td>\n",
       "      <td>450</td>\n",
       "      <td>493</td>\n",
       "    </tr>\n",
       "    <tr>\n",
       "      <th>2</th>\n",
       "      <td>Sautee Nacoochee</td>\n",
       "      <td>463</td>\n",
       "      <td>439</td>\n",
       "      <td>451</td>\n",
       "    </tr>\n",
       "    <tr>\n",
       "      <th>3</th>\n",
       "      <td>Fort Peck</td>\n",
       "      <td>559</td>\n",
       "      <td>448</td>\n",
       "      <td>504</td>\n",
       "    </tr>\n",
       "    <tr>\n",
       "      <th>4</th>\n",
       "      <td>North Pole</td>\n",
       "      <td>489</td>\n",
       "      <td>447</td>\n",
       "      <td>468</td>\n",
       "    </tr>\n",
       "    <tr>\n",
       "      <th>5</th>\n",
       "      <td>Elkport</td>\n",
       "      <td>454</td>\n",
       "      <td>431</td>\n",
       "      <td>443</td>\n",
       "    </tr>\n",
       "    <tr>\n",
       "      <th>6</th>\n",
       "      <td>Whitley Gardens</td>\n",
       "      <td>423</td>\n",
       "      <td>395</td>\n",
       "      <td>409</td>\n",
       "    </tr>\n",
       "    <tr>\n",
       "      <th>7</th>\n",
       "      <td>Waldenburg</td>\n",
       "      <td>500</td>\n",
       "      <td>451</td>\n",
       "      <td>476</td>\n",
       "    </tr>\n",
       "    <tr>\n",
       "      <th>8</th>\n",
       "      <td>North Beach</td>\n",
       "      <td>439</td>\n",
       "      <td>478</td>\n",
       "      <td>459</td>\n",
       "    </tr>\n",
       "    <tr>\n",
       "      <th>9</th>\n",
       "      <td>Ensenada</td>\n",
       "      <td>528</td>\n",
       "      <td>455</td>\n",
       "      <td>492</td>\n",
       "    </tr>\n",
       "  </tbody>\n",
       "</table>\n",
       "</div>"
      ],
      "text/plain": [
       "           district    M    R    S\n",
       "0        Fox Chapel  473  447  460\n",
       "1         Tuscarora  536  450  493\n",
       "2  Sautee Nacoochee  463  439  451\n",
       "3         Fort Peck  559  448  504\n",
       "4        North Pole  489  447  468\n",
       "5           Elkport  454  431  443\n",
       "6   Whitley Gardens  423  395  409\n",
       "7        Waldenburg  500  451  476\n",
       "8       North Beach  439  478  459\n",
       "9          Ensenada  528  455  492"
      ]
     },
     "execution_count": 4,
     "metadata": {},
     "output_type": "execute_result"
    }
   ],
   "source": [
    "ts = pd.read_excel('test_scores.xlsx')\n",
    "ts.head(10)"
   ]
  },
  {
   "cell_type": "code",
   "execution_count": 6,
   "id": "8fc33e66",
   "metadata": {},
   "outputs": [
    {
     "name": "stdout",
     "output_type": "stream",
     "text": [
      "<class 'pandas.core.frame.DataFrame'>\n",
      "RangeIndex: 100 entries, 0 to 99\n",
      "Data columns (total 4 columns):\n",
      " #   Column    Non-Null Count  Dtype \n",
      "---  ------    --------------  ----- \n",
      " 0   district  100 non-null    object\n",
      " 1   M         100 non-null    int64 \n",
      " 2   R         100 non-null    int64 \n",
      " 3   S         100 non-null    int64 \n",
      "dtypes: int64(3), object(1)\n",
      "memory usage: 3.2+ KB\n"
     ]
    }
   ],
   "source": [
    "ts.info()"
   ]
  },
  {
   "cell_type": "markdown",
   "id": "29350eb7",
   "metadata": {},
   "source": [
    "## Unpivot columns"
   ]
  },
  {
   "cell_type": "code",
   "execution_count": 9,
   "id": "7ac0f507",
   "metadata": {},
   "outputs": [],
   "source": [
    "# if we want to collapse the scores into 2 columns:\n",
    "# on with the test type and one with the score\n",
    "# we'll need to reshap the dataset (or un-pivot it)\n",
    "# we'll use the .melt() function\n",
    "# id_vars should contains all the variables that we do not want to reshape"
   ]
  },
  {
   "cell_type": "code",
   "execution_count": 11,
   "id": "fff02e74",
   "metadata": {},
   "outputs": [
    {
     "data": {
      "text/html": [
       "<div>\n",
       "<style scoped>\n",
       "    .dataframe tbody tr th:only-of-type {\n",
       "        vertical-align: middle;\n",
       "    }\n",
       "\n",
       "    .dataframe tbody tr th {\n",
       "        vertical-align: top;\n",
       "    }\n",
       "\n",
       "    .dataframe thead th {\n",
       "        text-align: right;\n",
       "    }\n",
       "</style>\n",
       "<table border=\"1\" class=\"dataframe\">\n",
       "  <thead>\n",
       "    <tr style=\"text-align: right;\">\n",
       "      <th></th>\n",
       "      <th>district</th>\n",
       "      <th>test_type</th>\n",
       "      <th>score</th>\n",
       "    </tr>\n",
       "  </thead>\n",
       "  <tbody>\n",
       "    <tr>\n",
       "      <th>0</th>\n",
       "      <td>Fox Chapel</td>\n",
       "      <td>M</td>\n",
       "      <td>473</td>\n",
       "    </tr>\n",
       "    <tr>\n",
       "      <th>1</th>\n",
       "      <td>Tuscarora</td>\n",
       "      <td>M</td>\n",
       "      <td>536</td>\n",
       "    </tr>\n",
       "    <tr>\n",
       "      <th>2</th>\n",
       "      <td>Sautee Nacoochee</td>\n",
       "      <td>M</td>\n",
       "      <td>463</td>\n",
       "    </tr>\n",
       "    <tr>\n",
       "      <th>3</th>\n",
       "      <td>Fort Peck</td>\n",
       "      <td>M</td>\n",
       "      <td>559</td>\n",
       "    </tr>\n",
       "    <tr>\n",
       "      <th>4</th>\n",
       "      <td>North Pole</td>\n",
       "      <td>M</td>\n",
       "      <td>489</td>\n",
       "    </tr>\n",
       "  </tbody>\n",
       "</table>\n",
       "</div>"
      ],
      "text/plain": [
       "           district test_type  score\n",
       "0        Fox Chapel         M    473\n",
       "1         Tuscarora         M    536\n",
       "2  Sautee Nacoochee         M    463\n",
       "3         Fort Peck         M    559\n",
       "4        North Pole         M    489"
      ]
     },
     "execution_count": 11,
     "metadata": {},
     "output_type": "execute_result"
    }
   ],
   "source": [
    "scores_pivot = pd.melt(frame = ts, id_vars = 'district', \n",
    "                       value_vars = ['M', 'R', 'S'], value_name = 'score',\n",
    "                      var_name = 'test_type')\n",
    "scores_pivot.head()"
   ]
  },
  {
   "cell_type": "code",
   "execution_count": 12,
   "id": "13807475",
   "metadata": {},
   "outputs": [
    {
     "data": {
      "text/plain": [
       "array(['M', 'R', 'S'], dtype=object)"
      ]
     },
     "execution_count": 12,
     "metadata": {},
     "output_type": "execute_result"
    }
   ],
   "source": [
    "# check which values are in the newly created left column that contains\n",
    "# the former headers\n",
    "scores_pivot['test_type'].unique()"
   ]
  },
  {
   "cell_type": "code",
   "execution_count": 13,
   "id": "3689c4e7",
   "metadata": {},
   "outputs": [],
   "source": [
    "# for better readability it would be beneficial to give more context\n",
    "# to the column test_type's content\n",
    "mapping = {'M':'Math', 'R':'Reading', 'S':'Science'}\n",
    "scores_pivot['test_type'] = scores_pivot['test_type'].map(mapping)"
   ]
  },
  {
   "cell_type": "code",
   "execution_count": 14,
   "id": "403d0af9",
   "metadata": {},
   "outputs": [
    {
     "data": {
      "text/plain": [
       "array(['Math', 'Reading', 'Science'], dtype=object)"
      ]
     },
     "execution_count": 14,
     "metadata": {},
     "output_type": "execute_result"
    }
   ],
   "source": [
    "scores_pivot['test_type'].unique()"
   ]
  },
  {
   "cell_type": "code",
   "execution_count": 15,
   "id": "f18801a4",
   "metadata": {},
   "outputs": [
    {
     "data": {
      "text/html": [
       "<div>\n",
       "<style scoped>\n",
       "    .dataframe tbody tr th:only-of-type {\n",
       "        vertical-align: middle;\n",
       "    }\n",
       "\n",
       "    .dataframe tbody tr th {\n",
       "        vertical-align: top;\n",
       "    }\n",
       "\n",
       "    .dataframe thead th {\n",
       "        text-align: right;\n",
       "    }\n",
       "</style>\n",
       "<table border=\"1\" class=\"dataframe\">\n",
       "  <thead>\n",
       "    <tr style=\"text-align: right;\">\n",
       "      <th></th>\n",
       "      <th>district</th>\n",
       "      <th>test_type</th>\n",
       "      <th>score</th>\n",
       "    </tr>\n",
       "  </thead>\n",
       "  <tbody>\n",
       "    <tr>\n",
       "      <th>0</th>\n",
       "      <td>Fox Chapel</td>\n",
       "      <td>Math</td>\n",
       "      <td>473</td>\n",
       "    </tr>\n",
       "    <tr>\n",
       "      <th>1</th>\n",
       "      <td>Tuscarora</td>\n",
       "      <td>Math</td>\n",
       "      <td>536</td>\n",
       "    </tr>\n",
       "    <tr>\n",
       "      <th>2</th>\n",
       "      <td>Sautee Nacoochee</td>\n",
       "      <td>Math</td>\n",
       "      <td>463</td>\n",
       "    </tr>\n",
       "    <tr>\n",
       "      <th>3</th>\n",
       "      <td>Fort Peck</td>\n",
       "      <td>Math</td>\n",
       "      <td>559</td>\n",
       "    </tr>\n",
       "    <tr>\n",
       "      <th>4</th>\n",
       "      <td>North Pole</td>\n",
       "      <td>Math</td>\n",
       "      <td>489</td>\n",
       "    </tr>\n",
       "  </tbody>\n",
       "</table>\n",
       "</div>"
      ],
      "text/plain": [
       "           district test_type  score\n",
       "0        Fox Chapel      Math    473\n",
       "1         Tuscarora      Math    536\n",
       "2  Sautee Nacoochee      Math    463\n",
       "3         Fort Peck      Math    559\n",
       "4        North Pole      Math    489"
      ]
     },
     "execution_count": 15,
     "metadata": {},
     "output_type": "execute_result"
    }
   ],
   "source": [
    "scores_pivot.head()"
   ]
  },
  {
   "cell_type": "markdown",
   "id": "bb32b7f6",
   "metadata": {},
   "source": [
    "## Pivot columns"
   ]
  },
  {
   "cell_type": "code",
   "execution_count": 18,
   "id": "5e2ab1e7",
   "metadata": {},
   "outputs": [
    {
     "data": {
      "text/html": [
       "<div>\n",
       "<style scoped>\n",
       "    .dataframe tbody tr th:only-of-type {\n",
       "        vertical-align: middle;\n",
       "    }\n",
       "\n",
       "    .dataframe tbody tr th {\n",
       "        vertical-align: top;\n",
       "    }\n",
       "\n",
       "    .dataframe thead th {\n",
       "        text-align: right;\n",
       "    }\n",
       "</style>\n",
       "<table border=\"1\" class=\"dataframe\">\n",
       "  <thead>\n",
       "    <tr style=\"text-align: right;\">\n",
       "      <th>test_type</th>\n",
       "      <th>Math</th>\n",
       "      <th>Reading</th>\n",
       "      <th>Science</th>\n",
       "    </tr>\n",
       "    <tr>\n",
       "      <th>district</th>\n",
       "      <th></th>\n",
       "      <th></th>\n",
       "      <th></th>\n",
       "    </tr>\n",
       "  </thead>\n",
       "  <tbody>\n",
       "    <tr>\n",
       "      <th>Aguadilla</th>\n",
       "      <td>513</td>\n",
       "      <td>416</td>\n",
       "      <td>465</td>\n",
       "    </tr>\n",
       "    <tr>\n",
       "      <th>Amalga</th>\n",
       "      <td>506</td>\n",
       "      <td>433</td>\n",
       "      <td>470</td>\n",
       "    </tr>\n",
       "    <tr>\n",
       "      <th>Angier</th>\n",
       "      <td>444</td>\n",
       "      <td>411</td>\n",
       "      <td>428</td>\n",
       "    </tr>\n",
       "    <tr>\n",
       "      <th>Arenzville</th>\n",
       "      <td>405</td>\n",
       "      <td>410</td>\n",
       "      <td>408</td>\n",
       "    </tr>\n",
       "    <tr>\n",
       "      <th>Asheville</th>\n",
       "      <td>489</td>\n",
       "      <td>433</td>\n",
       "      <td>461</td>\n",
       "    </tr>\n",
       "    <tr>\n",
       "      <th>...</th>\n",
       "      <td>...</td>\n",
       "      <td>...</td>\n",
       "      <td>...</td>\n",
       "    </tr>\n",
       "    <tr>\n",
       "      <th>Waldenburg</th>\n",
       "      <td>500</td>\n",
       "      <td>451</td>\n",
       "      <td>476</td>\n",
       "    </tr>\n",
       "    <tr>\n",
       "      <th>Whitley Gardens</th>\n",
       "      <td>423</td>\n",
       "      <td>395</td>\n",
       "      <td>409</td>\n",
       "    </tr>\n",
       "    <tr>\n",
       "      <th>Wiley</th>\n",
       "      <td>626</td>\n",
       "      <td>465</td>\n",
       "      <td>546</td>\n",
       "    </tr>\n",
       "    <tr>\n",
       "      <th>Woodlyn</th>\n",
       "      <td>454</td>\n",
       "      <td>421</td>\n",
       "      <td>438</td>\n",
       "    </tr>\n",
       "    <tr>\n",
       "      <th>Worton</th>\n",
       "      <td>463</td>\n",
       "      <td>402</td>\n",
       "      <td>433</td>\n",
       "    </tr>\n",
       "  </tbody>\n",
       "</table>\n",
       "<p>100 rows × 3 columns</p>\n",
       "</div>"
      ],
      "text/plain": [
       "test_type        Math  Reading  Science\n",
       "district                               \n",
       "Aguadilla         513      416      465\n",
       "Amalga            506      433      470\n",
       "Angier            444      411      428\n",
       "Arenzville        405      410      408\n",
       "Asheville         489      433      461\n",
       "...               ...      ...      ...\n",
       "Waldenburg        500      451      476\n",
       "Whitley Gardens   423      395      409\n",
       "Wiley             626      465      546\n",
       "Woodlyn           454      421      438\n",
       "Worton            463      402      433\n",
       "\n",
       "[100 rows x 3 columns]"
      ]
     },
     "execution_count": 18,
     "metadata": {},
     "output_type": "execute_result"
    }
   ],
   "source": [
    "# to cancel those changes and go back to the previous table\n",
    "scores_pivot.pivot_table(index = 'district', columns = 'test_type',\n",
    "                        values = 'score')"
   ]
  }
 ],
 "metadata": {
  "kernelspec": {
   "display_name": "Python 3 (ipykernel)",
   "language": "python",
   "name": "python3"
  },
  "language_info": {
   "codemirror_mode": {
    "name": "ipython",
    "version": 3
   },
   "file_extension": ".py",
   "mimetype": "text/x-python",
   "name": "python",
   "nbconvert_exporter": "python",
   "pygments_lexer": "ipython3",
   "version": "3.9.13"
  }
 },
 "nbformat": 4,
 "nbformat_minor": 5
}
